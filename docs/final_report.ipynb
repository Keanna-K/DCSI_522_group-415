{
 "cells": [
  {
   "cell_type": "markdown",
   "metadata": {},
   "source": [
    "# L1c3nc3 to C0d3\n",
    "\n",
    "#### Authors: Cari Gostic, Keanna Knebel, Furqan Khan"
   ]
  },
  {
   "cell_type": "markdown",
   "metadata": {},
   "source": [
    "# Introduction  \n",
    "Vanity license plates have been a source of humor and pride for drivers in the United States since their introduction in 1965. A vanity plate is a customized license plate, where for a small fee drivers can request a specific sequence of two to eight alaphanumeric characters for their license plate. For a vanity plate to be accepted by the department of motor vehicles, the submitted sequence must not be registered to any other car in the state, and must be deemed \"appropriate\". There is an inital screening against a \"red-guide,\" which contains character sequences that are overtly profain or reserved for special vehicle classes. If a submission contains any sequence in the red guide, it is automatically rejected. Submissions that pass this initial screening are then reviewed by clerical staff. According to the regulations set out in the state's cancellation procedure: \n",
    "\n",
    "- A plate must have at least 1 letter  \n",
    "- A plate cannot consist of 6 numbers followed by a single letter  \n",
    "- A plate may not be \"obscene, lavacious, derogatory to a specific ethnic group, or patently offensive\"  \n",
    "- A plate may not falsely imply connection with a government agency  \n",
    "\n",
    "The cancellation procedure notes that suspicious plates may be scrutinized using Urban Dictionary.   \n",
    "    In July of 2014, journalists from the public radio station WNYC submitted a Freedom of Information Act request to obtain a list of vanity plate applications to the New York State Department of Motor Vehicles. They were granted comprehensive datasets of all accepted plates, and applications that were rejected during their secondary screening. In other words, the plates in the rejected dataset were not already registered at the time of application, and did not contain any red-guide character strings. Though the cancellation procedure seems straightforward, there are many plates in the rejected dataset that pass all of the guidelines. Given that a submitted vanity plate is available for use, following the rules does not guarantee that the plate will be accepted. the decision seems to be a bit arbitrary.\n"
   ]
  },
  {
   "cell_type": "markdown",
   "metadata": {},
   "source": [
    "# Purpose  \n",
    "In this project, we will attempt to identify patterns in the apparent ambiguity of vanity plate cancellations. Specifically, we will create a classification model to answer the following question:\n",
    ">**What features are the strongest predictors of a rejected license plate?**\n"
   ]
  },
  {
   "cell_type": "markdown",
   "metadata": {},
   "source": [
    "# Methodology"
   ]
  },
  {
   "cell_type": "markdown",
   "metadata": {},
   "source": [
    "# Results\n"
   ]
  },
  {
   "cell_type": "markdown",
   "metadata": {},
   "source": [
    "# Conclusions"
   ]
  },
  {
   "cell_type": "code",
   "execution_count": null,
   "metadata": {},
   "outputs": [],
   "source": []
  }
 ],
 "metadata": {
  "kernelspec": {
   "display_name": "Python 3",
   "language": "python",
   "name": "python3"
  },
  "language_info": {
   "codemirror_mode": {
    "name": "ipython",
    "version": 3
   },
   "file_extension": ".py",
   "mimetype": "text/x-python",
   "name": "python",
   "nbconvert_exporter": "python",
   "pygments_lexer": "ipython3",
   "version": "3.7.6"
  }
 },
 "nbformat": 4,
 "nbformat_minor": 4
}
