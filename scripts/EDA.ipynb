{
 "cells": [
  {
   "cell_type": "code",
   "execution_count": 83,
   "metadata": {},
   "outputs": [],
   "source": [
    "import pandas as pd\n",
    "import selenium\n",
    "#from data_processing.py import X_train_transform, y_train_transform\n",
    "\n",
    "# Loading the plate datasets\n",
    "full_rejected = pd.read_csv('../data/rejected_plates.csv')\n",
    "full_accepted = pd.read_csv('../data/accepted_plates.csv')\n",
    "reduced_plate_df=pd.read_csv('../data/full_vanity_plate_data.csv')"
   ]
  },
  {
   "cell_type": "markdown",
   "metadata": {},
   "source": [
    "# TO DO: Load transformed training data from script 2!"
   ]
  },
  {
   "cell_type": "code",
   "execution_count": 33,
   "metadata": {},
   "outputs": [],
   "source": [
    "import pandas as pd \n",
    "import numpy as np\n",
    "from sklearn.feature_extraction.text import CountVectorizer\n",
    "from sklearn.model_selection import train_test_split\n",
    "from sklearn.naive_bayes import MultinomialNB\n",
    "from sklearn.metrics import classification_report\n",
    " \n",
    "# Read in csv files and add outcome column as either \"accepted\" or \"rejected\"\n",
    "# for each csv\n",
    "file_path = '../data/'\n",
    "filename_1 = 'accepted_plates.csv'\n",
    "filename_2 = 'rejected_plates.csv'\n",
    "filename_3 = 'full_vanity_plate_data.csv'\n",
    "\n",
    "accepted_df =pd.read_csv(file_path + filename_1, index_col = 0)\n",
    "accepted_df['outcome'] = 'accepted'\n",
    "rejected_df = pd.read_csv(file_path + filename_2, index_col = 0)\n",
    "rejected_df['outcome'] = 'rejected'\n",
    "\n",
    "# Undersample accepted observations (by taking random sample of 2000)\n",
    "reduced_accepted = accepted_df.sample(n = 2000, random_state = 415)\n",
    "\n",
    "# tests for column addition and df join\n",
    "assert reduced_accepted.shape[0] == 2000, \"should be 2000 observations\"\n",
    "assert reduced_accepted['outcome'].all() == 'accepted', \"outcome should all be 'accepted'\"\n",
    "assert rejected_df['outcome'].all() == 'rejected', \"outcome should all be 'rejected'\"\n",
    "\n",
    "# combine dataframe and save\n",
    "combo_df = reduced_accepted.append(rejected_df)\n",
    "combo_df.to_csv(file_path + filename_3)\n",
    "\n",
    "# split data into train and test sets\n",
    "X = combo_df['plate']\n",
    "y = combo_df['outcome']\n",
    "X_train, X_test, y_train, y_test = train_test_split(X, y, test_size = 0.2, random_state = 415)\n",
    "\n",
    "# test for randomization during df split\n",
    "assert set(y_train) == {'accepted', 'rejected'}, \"training set contains both outcomes\"\n",
    "\n",
    "# split data into train and validate sets\n",
    "X_train, X_validate, y_train, y_validate = train_test_split(X_train, y_train, test_size = 0.2, random_state = 415)\n",
    "\n",
    "# feature engineering with count vectorizer\n",
    "cv = CountVectorizer(analyzer='char', ngram_range=(2,8))\n",
    "X_train_transformed = cv.fit_transform(X_train)"
   ]
  },
  {
   "cell_type": "markdown",
   "metadata": {},
   "source": [
    "#### Exploratory data analysis (EDA)\n",
    "\n",
    "In this section we perform EDA of the given dataset to use it to answer the research question. "
   ]
  },
  {
   "cell_type": "code",
   "execution_count": 19,
   "metadata": {},
   "outputs": [],
   "source": [
    "full_rejected['outcome'] = 'rejected'\n",
    "full_accepted['outcome'] = 'accepted'"
   ]
  },
  {
   "cell_type": "code",
   "execution_count": 23,
   "metadata": {},
   "outputs": [],
   "source": [
    "plate_df = full_accepted.append(full_rejected)[['date','plate','outcome']]"
   ]
  },
  {
   "cell_type": "code",
   "execution_count": 24,
   "metadata": {},
   "outputs": [
    {
     "name": "stdout",
     "output_type": "stream",
     "text": [
      "<class 'pandas.core.frame.DataFrame'>\n",
      "Int64Index: 133636 entries, 0 to 1645\n",
      "Data columns (total 3 columns):\n",
      "date       133636 non-null object\n",
      "plate      133635 non-null object\n",
      "outcome    133636 non-null object\n",
      "dtypes: object(3)\n",
      "memory usage: 4.1+ MB\n"
     ]
    }
   ],
   "source": [
    "plate_df.info()"
   ]
  },
  {
   "cell_type": "code",
   "execution_count": 25,
   "metadata": {},
   "outputs": [
    {
     "data": {
      "text/html": [
       "<div>\n",
       "<style scoped>\n",
       "    .dataframe tbody tr th:only-of-type {\n",
       "        vertical-align: middle;\n",
       "    }\n",
       "\n",
       "    .dataframe tbody tr th {\n",
       "        vertical-align: top;\n",
       "    }\n",
       "\n",
       "    .dataframe thead th {\n",
       "        text-align: right;\n",
       "    }\n",
       "</style>\n",
       "<table border=\"1\" class=\"dataframe\">\n",
       "  <thead>\n",
       "    <tr style=\"text-align: right;\">\n",
       "      <th></th>\n",
       "      <th>date</th>\n",
       "      <th>plate</th>\n",
       "      <th>outcome</th>\n",
       "    </tr>\n",
       "  </thead>\n",
       "  <tbody>\n",
       "    <tr>\n",
       "      <th>0</th>\n",
       "      <td>2010-10-01</td>\n",
       "      <td>ANDARE</td>\n",
       "      <td>accepted</td>\n",
       "    </tr>\n",
       "    <tr>\n",
       "      <th>1</th>\n",
       "      <td>2010-10-01</td>\n",
       "      <td>1TWIN</td>\n",
       "      <td>accepted</td>\n",
       "    </tr>\n",
       "    <tr>\n",
       "      <th>2</th>\n",
       "      <td>2010-10-01</td>\n",
       "      <td>11VROD</td>\n",
       "      <td>accepted</td>\n",
       "    </tr>\n",
       "    <tr>\n",
       "      <th>3</th>\n",
       "      <td>2010-10-01</td>\n",
       "      <td>4SKNMC</td>\n",
       "      <td>accepted</td>\n",
       "    </tr>\n",
       "    <tr>\n",
       "      <th>4</th>\n",
       "      <td>2010-10-01</td>\n",
       "      <td>7IRON6</td>\n",
       "      <td>accepted</td>\n",
       "    </tr>\n",
       "  </tbody>\n",
       "</table>\n",
       "</div>"
      ],
      "text/plain": [
       "         date   plate   outcome\n",
       "0  2010-10-01  ANDARE  accepted\n",
       "1  2010-10-01   1TWIN  accepted\n",
       "2  2010-10-01  11VROD  accepted\n",
       "3  2010-10-01  4SKNMC  accepted\n",
       "4  2010-10-01  7IRON6  accepted"
      ]
     },
     "execution_count": 25,
     "metadata": {},
     "output_type": "execute_result"
    }
   ],
   "source": [
    "plate_df.head()"
   ]
  },
  {
   "cell_type": "markdown",
   "metadata": {},
   "source": [
    "The dataset has three columns. For this project the important ones are `plate` and `outcome`. Only one value in `plate` is null or missing, which we need to eliminate in the wrangling step. Both `plate` and `outcome` are non-numeric data types. `plate` is string while `outcome` is boolean having two values `accepted` and `rejected`."
   ]
  },
  {
   "cell_type": "markdown",
   "metadata": {},
   "source": [
    "Since, the project is focused on making the predictions on the `outcome` based on `plate`, it is essential to know if we have same number of examples in the `outcome` for classification. The below plot shows the simple bar chart of the two `outcome` values. "
   ]
  },
  {
   "cell_type": "code",
   "execution_count": 32,
   "metadata": {},
   "outputs": [
    {
     "data": {
      "application/vnd.vegalite.v3+json": {
       "$schema": "https://vega.github.io/schema/vega-lite/v3.4.0.json",
       "config": {
        "axis": {
         "labelFontSize": 15,
         "titleFontSize": 20
        },
        "mark": {
         "tooltip": null
        },
        "title": {
         "fontSize": 20
        },
        "view": {
         "height": 300,
         "width": 400
        }
       },
       "data": {
        "format": {
         "type": "json"
        },
        "url": "altair-data-df0bf15c535e5603dccf1e2aae53c769.json"
       },
       "encoding": {
        "column": {
         "field": "outcome",
         "title": "",
         "type": "nominal"
        },
        "x": {
         "axis": {
          "labels": false,
          "ticks": false,
          "title": ""
         },
         "bin": true,
         "field": "outcome",
         "type": "nominal"
        },
        "y": {
         "aggregate": "count",
         "scale": {
          "base": 10,
          "type": "log"
         },
         "title": "Count",
         "type": "quantitative"
        }
       },
       "height": 300,
       "mark": "bar",
       "title": "Number of examples per classification",
       "width": 100
      },
      "image/png": "[encoded data removed]",
      "text/plain": [
       "<VegaLite 3 object>\n",
       "\n",
       "If you see this message, it means the renderer has not been properly enabled\n",
       "for the frontend that you are using. For more information, see\n",
       "https://altair-viz.github.io/user_guide/troubleshooting.html\n"
      ]
     },
     "execution_count": 32,
     "metadata": {},
     "output_type": "execute_result"
    }
   ],
   "source": [
    "import altair as alt\n",
    "alt.data_transformers.enable('json')\n",
    "\n",
    "alt.Chart(plate_df).mark_bar().encode(\n",
    "    alt.X(\"outcome:N\", bin=True, axis=alt.Axis(ticks = False, labels = False, title = \"\")),\n",
    "    alt.Y(\"count()\", scale=alt.Scale(type='log', base=10), title = 'Count'), \n",
    "    column = alt.Column('outcome:N', title = \"\")\n",
    ").configure_axis(labelFontSize=15,titleFontSize=20\n",
    ").configure_title(fontSize=20\n",
    ").properties(title=\"Number of examples per classification\", width=100, height=300)"
   ]
  },
  {
   "cell_type": "code",
   "execution_count": 27,
   "metadata": {},
   "outputs": [
    {
     "name": "stdout",
     "output_type": "stream",
     "text": [
      "Total number of accepted plate is 131990\n",
      "Total number of rejected plate is 1646\n"
     ]
    }
   ],
   "source": [
    "print('Total number of accepted plate is',plate_df.query('outcome == \"accepted\"').shape[0])\n",
    "print('Total number of rejected plate is',plate_df.query('outcome == \"rejected\"').shape[0])"
   ]
  },
  {
   "cell_type": "markdown",
   "metadata": {},
   "source": [
    "This means that we have significant class imbalance in our data. Thus, we need to account for this in our model. We will do so by undersampling the accepted plates data to 2000 examples. "
   ]
  },
  {
   "cell_type": "code",
   "execution_count": 285,
   "metadata": {},
   "outputs": [
    {
     "data": {
      "text/plain": [
       "3646"
      ]
     },
     "execution_count": 285,
     "metadata": {},
     "output_type": "execute_result"
    }
   ],
   "source": [
    "len(X)"
   ]
  },
  {
   "cell_type": "markdown",
   "metadata": {},
   "source": [
    "This leaves us with 3646 examples, 2000 for the accepted class, and 1646 for the rejected class."
   ]
  },
  {
   "cell_type": "markdown",
   "metadata": {},
   "source": [
    "After undersampling the accepted plates data, combining accepted and rejected plates into a single dataframe, and splitting the full dataset into training, validation, and testing datasets, we fit a CountVectorizer to the training data. The transformer created features of all n-grams from length 2 (minimum allowed on a plate) to the length of each example (with a maximum of 8). For example, if one example of a vanity plate submission was \"CATS4EVR\", 28 features would be created. Length 2 features would include `CA`, `AT`, `TS`, `S4`, `4E`, `EV`, `VR`. Length 3 would include `CAT`, `CATS`, `ATS` etc. and so on up to n-grams of length 8. "
   ]
  },
  {
   "cell_type": "markdown",
   "metadata": {},
   "source": [
    "Below is a table of the highest frequency features in the training set, where `counts` denotes how many time each n=gram appears. Higher frequency n-grams may have stronger predictive power, depending on if a frequently occurring n-gram appears disproportionately in a certain class. All of the most frequent ngrams are of length 2, which is expected given that it's more likely to that a string of 2 characters appears in multiple plates as part of longer n-grams compared to a longer string. For example, given that all plates in the dataset are unique, a string of length 8 (the maximum length) may only appear once. "
   ]
  },
  {
   "cell_type": "code",
   "execution_count": 283,
   "metadata": {},
   "outputs": [
    {
     "data": {
      "text/plain": [
       "25889"
      ]
     },
     "execution_count": 283,
     "metadata": {},
     "output_type": "execute_result"
    }
   ],
   "source": [
    "# Number of features\n",
    "len(cv.get_feature_names())"
   ]
  },
  {
   "cell_type": "markdown",
   "metadata": {},
   "source": [
    "25,889 unique features were engineered from the license plates in the training dataset."
   ]
  },
  {
   "cell_type": "code",
   "execution_count": 153,
   "metadata": {},
   "outputs": [],
   "source": [
    "counts = pd.DataFrame({'ngrams':np.array(cv.get_feature_names()), 'counts': np.squeeze(np.asarray(X_train_transformed.sum(axis = 0)))})"
   ]
  },
  {
   "cell_type": "code",
   "execution_count": 103,
   "metadata": {},
   "outputs": [
    {
     "data": {
      "text/html": [
       "<div>\n",
       "<style scoped>\n",
       "    .dataframe tbody tr th:only-of-type {\n",
       "        vertical-align: middle;\n",
       "    }\n",
       "\n",
       "    .dataframe tbody tr th {\n",
       "        vertical-align: top;\n",
       "    }\n",
       "\n",
       "    .dataframe thead th {\n",
       "        text-align: right;\n",
       "    }\n",
       "</style>\n",
       "<table border=\"1\" class=\"dataframe\">\n",
       "  <thead>\n",
       "    <tr style=\"text-align: right;\">\n",
       "      <th></th>\n",
       "      <th>ngrams</th>\n",
       "      <th>counts</th>\n",
       "    </tr>\n",
       "  </thead>\n",
       "  <tbody>\n",
       "    <tr>\n",
       "      <th>3267</th>\n",
       "      <td>88</td>\n",
       "      <td>88</td>\n",
       "    </tr>\n",
       "    <tr>\n",
       "      <th>4873</th>\n",
       "      <td>ar</td>\n",
       "      <td>86</td>\n",
       "    </tr>\n",
       "    <tr>\n",
       "      <th>12481</th>\n",
       "      <td>in</td>\n",
       "      <td>86</td>\n",
       "    </tr>\n",
       "    <tr>\n",
       "      <th>15133</th>\n",
       "      <td>ma</td>\n",
       "      <td>84</td>\n",
       "    </tr>\n",
       "    <tr>\n",
       "      <th>4642</th>\n",
       "      <td>an</td>\n",
       "      <td>82</td>\n",
       "    </tr>\n",
       "    <tr>\n",
       "      <th>19814</th>\n",
       "      <td>re</td>\n",
       "      <td>81</td>\n",
       "    </tr>\n",
       "    <tr>\n",
       "      <th>0</th>\n",
       "      <td>00</td>\n",
       "      <td>78</td>\n",
       "    </tr>\n",
       "    <tr>\n",
       "      <th>21684</th>\n",
       "      <td>st</td>\n",
       "      <td>77</td>\n",
       "    </tr>\n",
       "    <tr>\n",
       "      <th>9041</th>\n",
       "      <td>er</td>\n",
       "      <td>75</td>\n",
       "    </tr>\n",
       "    <tr>\n",
       "      <th>18029</th>\n",
       "      <td>on</td>\n",
       "      <td>74</td>\n",
       "    </tr>\n",
       "  </tbody>\n",
       "</table>\n",
       "</div>"
      ],
      "text/plain": [
       "      ngrams  counts\n",
       "3267      88      88\n",
       "4873      ar      86\n",
       "12481     in      86\n",
       "15133     ma      84\n",
       "4642      an      82\n",
       "19814     re      81\n",
       "0         00      78\n",
       "21684     st      77\n",
       "9041      er      75\n",
       "18029     on      74"
      ]
     },
     "execution_count": 103,
     "metadata": {},
     "output_type": "execute_result"
    }
   ],
   "source": [
    "# Ngrams with highest counts\n",
    "counts.sort_values(by='counts', ascending = False).head(10)"
   ]
  },
  {
   "cell_type": "markdown",
   "metadata": {},
   "source": [
    "Now, we'll check if any 8-character-long n-grams are repeated (which would be unexpected)."
   ]
  },
  {
   "cell_type": "code",
   "execution_count": 104,
   "metadata": {},
   "outputs": [
    {
     "data": {
      "text/html": [
       "<div>\n",
       "<style scoped>\n",
       "    .dataframe tbody tr th:only-of-type {\n",
       "        vertical-align: middle;\n",
       "    }\n",
       "\n",
       "    .dataframe tbody tr th {\n",
       "        vertical-align: top;\n",
       "    }\n",
       "\n",
       "    .dataframe thead th {\n",
       "        text-align: right;\n",
       "    }\n",
       "</style>\n",
       "<table border=\"1\" class=\"dataframe\">\n",
       "  <thead>\n",
       "    <tr style=\"text-align: right;\">\n",
       "      <th></th>\n",
       "      <th>ngrams</th>\n",
       "      <th>counts</th>\n",
       "    </tr>\n",
       "  </thead>\n",
       "  <tbody>\n",
       "    <tr>\n",
       "      <th>7</th>\n",
       "      <td>0000heke</td>\n",
       "      <td>1</td>\n",
       "    </tr>\n",
       "    <tr>\n",
       "      <th>17312</th>\n",
       "      <td>nypba112</td>\n",
       "      <td>1</td>\n",
       "    </tr>\n",
       "    <tr>\n",
       "      <th>17504</th>\n",
       "      <td>obama412</td>\n",
       "      <td>1</td>\n",
       "    </tr>\n",
       "    <tr>\n",
       "      <th>17576</th>\n",
       "      <td>oddododo</td>\n",
       "      <td>1</td>\n",
       "    </tr>\n",
       "    <tr>\n",
       "      <th>17592</th>\n",
       "      <td>odododod</td>\n",
       "      <td>1</td>\n",
       "    </tr>\n",
       "  </tbody>\n",
       "</table>\n",
       "</div>"
      ],
      "text/plain": [
       "         ngrams  counts\n",
       "7      0000heke       1\n",
       "17312  nypba112       1\n",
       "17504  obama412       1\n",
       "17576  oddododo       1\n",
       "17592  odododod       1"
      ]
     },
     "execution_count": 104,
     "metadata": {},
     "output_type": "execute_result"
    }
   ],
   "source": [
    "filter8 = counts['ngrams'].str.len()==8\n",
    "counts[filter8].sort_values(by = 'counts', ascending = False).head(5)"
   ]
  },
  {
   "cell_type": "markdown",
   "metadata": {},
   "source": [
    "On that note, are there any instances of repeated 7-character-long strings? Below, we see that there are only 8 instances of repeated 7-character-long strings, and the rest are unique. "
   ]
  },
  {
   "cell_type": "code",
   "execution_count": 249,
   "metadata": {},
   "outputs": [
    {
     "data": {
      "text/html": [
       "<div>\n",
       "<style scoped>\n",
       "    .dataframe tbody tr th:only-of-type {\n",
       "        vertical-align: middle;\n",
       "    }\n",
       "\n",
       "    .dataframe tbody tr th {\n",
       "        vertical-align: top;\n",
       "    }\n",
       "\n",
       "    .dataframe thead th {\n",
       "        text-align: right;\n",
       "    }\n",
       "</style>\n",
       "<table border=\"1\" class=\"dataframe\">\n",
       "  <thead>\n",
       "    <tr style=\"text-align: right;\">\n",
       "      <th></th>\n",
       "      <th>ngrams</th>\n",
       "      <th>counts</th>\n",
       "      <th>ng_length</th>\n",
       "    </tr>\n",
       "  </thead>\n",
       "  <tbody>\n",
       "    <tr>\n",
       "      <th>21842</th>\n",
       "      <td>stugots</td>\n",
       "      <td>2</td>\n",
       "      <td>7</td>\n",
       "    </tr>\n",
       "    <tr>\n",
       "      <th>12240</th>\n",
       "      <td>iiiii1i</td>\n",
       "      <td>2</td>\n",
       "      <td>7</td>\n",
       "    </tr>\n",
       "    <tr>\n",
       "      <th>3288</th>\n",
       "      <td>888b888</td>\n",
       "      <td>2</td>\n",
       "      <td>7</td>\n",
       "    </tr>\n",
       "    <tr>\n",
       "      <th>3304</th>\n",
       "      <td>88b8888</td>\n",
       "      <td>2</td>\n",
       "      <td>7</td>\n",
       "    </tr>\n",
       "    <tr>\n",
       "      <th>11813</th>\n",
       "      <td>i1111ii</td>\n",
       "      <td>2</td>\n",
       "      <td>7</td>\n",
       "    </tr>\n",
       "    <tr>\n",
       "      <th>11817</th>\n",
       "      <td>i111iii</td>\n",
       "      <td>2</td>\n",
       "      <td>7</td>\n",
       "    </tr>\n",
       "    <tr>\n",
       "      <th>5631</th>\n",
       "      <td>b88bb8b</td>\n",
       "      <td>2</td>\n",
       "      <td>7</td>\n",
       "    </tr>\n",
       "    <tr>\n",
       "      <th>17311</th>\n",
       "      <td>nypba11</td>\n",
       "      <td>2</td>\n",
       "      <td>7</td>\n",
       "    </tr>\n",
       "    <tr>\n",
       "      <th>17495</th>\n",
       "      <td>ob1229c</td>\n",
       "      <td>1</td>\n",
       "      <td>7</td>\n",
       "    </tr>\n",
       "    <tr>\n",
       "      <th>17487</th>\n",
       "      <td>oatsack</td>\n",
       "      <td>1</td>\n",
       "      <td>7</td>\n",
       "    </tr>\n",
       "  </tbody>\n",
       "</table>\n",
       "</div>"
      ],
      "text/plain": [
       "        ngrams  counts  ng_length\n",
       "21842  stugots       2          7\n",
       "12240  iiiii1i       2          7\n",
       "3288   888b888       2          7\n",
       "3304   88b8888       2          7\n",
       "11813  i1111ii       2          7\n",
       "11817  i111iii       2          7\n",
       "5631   b88bb8b       2          7\n",
       "17311  nypba11       2          7\n",
       "17495  ob1229c       1          7\n",
       "17487  oatsack       1          7"
      ]
     },
     "execution_count": 249,
     "metadata": {},
     "output_type": "execute_result"
    }
   ],
   "source": [
    "filter7 = counts['ngrams'].str.len()==7\n",
    "counts[filter7].sort_values(by = 'counts', ascending = False).head(10)"
   ]
  },
  {
   "cell_type": "code",
   "execution_count": 157,
   "metadata": {},
   "outputs": [],
   "source": [
    "counts['ng_length'] = counts['ngrams'].str.len()"
   ]
  },
  {
   "cell_type": "markdown",
   "metadata": {},
   "source": [
    "Below you'll find the distribution of n-gram frequencies for n-grams of length 2-8 (2 being the minimum length of a license plate string, 8 being the maximum). In the chart for length 2 n-grams, we see a wide distribution with some 2-character-long n-grams appearing over 80 times throughout the dataset. As we increase the length of the string, individual n-grams are repeated less often throughout the dataset which confirms the stated expected behavior from above."
   ]
  },
  {
   "cell_type": "code",
   "execution_count": 158,
   "metadata": {},
   "outputs": [
    {
     "data": {
      "application/vnd.vegalite.v3+json": {
       "$schema": "https://vega.github.io/schema/vega-lite/v3.4.0.json",
       "columns": 1,
       "config": {
        "mark": {
         "tooltip": null
        },
        "view": {
         "height": 300,
         "width": 400
        }
       },
       "data": {
        "format": {
         "type": "json"
        },
        "url": "altair-data-f4758fc9adf81823113c8c3eb2d47b8e.json"
       },
       "encoding": {
        "facet": {
         "field": "ng_length",
         "title": "n-gram length",
         "type": "nominal"
        },
        "x": {
         "field": "counts",
         "title": "Frequency of appearance in plates",
         "type": "quantitative"
        },
        "y": {
         "aggregate": "count",
         "scale": {
          "base": 10,
          "type": "log"
         },
         "title": "Count",
         "type": "quantitative"
        }
       },
       "height": 70,
       "mark": "bar",
       "title": "Counts of n-grams by length",
       "width": 300
      },
      "image/png": "[encoded data removed]",
      "text/plain": [
       "<VegaLite 3 object>\n",
       "\n",
       "If you see this message, it means the renderer has not been properly enabled\n",
       "for the frontend that you are using. For more information, see\n",
       "https://altair-viz.github.io/user_guide/troubleshooting.html\n"
      ]
     },
     "execution_count": 158,
     "metadata": {},
     "output_type": "execute_result"
    }
   ],
   "source": [
    "n_g_len_chart = (alt.Chart(counts).mark_bar().encode(\n",
    "        x = alt.X('counts:Q', title = \"Frequency of appearance in plates\"),\n",
    "        y = alt.Y(\"count()\", scale=alt.Scale(type='log', base=10), title = 'Count'),\n",
    "        facet = alt.Facet('ng_length:N', title = 'n-gram length')\n",
    "    ).properties(title = \"Counts of n-grams by length\", width = 300, height = 70, columns = 1))\n",
    "n_g_len_chart\n",
    "\n",
    "# n_g_len_chart.save('../docs/imgs/ngram_length_counts.svg')"
   ]
  },
  {
   "cell_type": "markdown",
   "metadata": {},
   "source": [
    "# The question now is: Are n-grams that appear only once in the dataset influential predictors, or should these be removed as features?"
   ]
  },
  {
   "cell_type": "markdown",
   "metadata": {},
   "source": [
    "To further our exploration of our engineered features, let's examine the distribution of the most frequent n-grams between the two classes.\n",
    "\n",
    "First, we'll group the features by length, and then pull the most common feature (by frequency count) from each length group. These are listed in the table below. \n",
    "Next, we will calculate the proportion of appearances of each high-frequency feature in each group. The results are plotted:"
   ]
  },
  {
   "cell_type": "code",
   "execution_count": 250,
   "metadata": {},
   "outputs": [
    {
     "data": {
      "text/html": [
       "<div>\n",
       "<style scoped>\n",
       "    .dataframe tbody tr th:only-of-type {\n",
       "        vertical-align: middle;\n",
       "    }\n",
       "\n",
       "    .dataframe tbody tr th {\n",
       "        vertical-align: top;\n",
       "    }\n",
       "\n",
       "    .dataframe thead th {\n",
       "        text-align: right;\n",
       "    }\n",
       "</style>\n",
       "<table border=\"1\" class=\"dataframe\">\n",
       "  <thead>\n",
       "    <tr style=\"text-align: right;\">\n",
       "      <th></th>\n",
       "      <th>index</th>\n",
       "      <th>ngrams</th>\n",
       "      <th>counts</th>\n",
       "      <th>ng_length</th>\n",
       "    </tr>\n",
       "  </thead>\n",
       "  <tbody>\n",
       "    <tr>\n",
       "      <th>0</th>\n",
       "      <td>3267</td>\n",
       "      <td>88</td>\n",
       "      <td>88</td>\n",
       "      <td>2</td>\n",
       "    </tr>\n",
       "    <tr>\n",
       "      <th>1</th>\n",
       "      <td>4873</td>\n",
       "      <td>ar</td>\n",
       "      <td>86</td>\n",
       "      <td>2</td>\n",
       "    </tr>\n",
       "    <tr>\n",
       "      <th>2</th>\n",
       "      <td>3270</td>\n",
       "      <td>888</td>\n",
       "      <td>37</td>\n",
       "      <td>3</td>\n",
       "    </tr>\n",
       "    <tr>\n",
       "      <th>3</th>\n",
       "      <td>12222</td>\n",
       "      <td>iii</td>\n",
       "      <td>27</td>\n",
       "      <td>3</td>\n",
       "    </tr>\n",
       "    <tr>\n",
       "      <th>4</th>\n",
       "      <td>3271</td>\n",
       "      <td>8888</td>\n",
       "      <td>17</td>\n",
       "      <td>4</td>\n",
       "    </tr>\n",
       "    <tr>\n",
       "      <th>5</th>\n",
       "      <td>12231</td>\n",
       "      <td>iiii</td>\n",
       "      <td>12</td>\n",
       "      <td>4</td>\n",
       "    </tr>\n",
       "    <tr>\n",
       "      <th>6</th>\n",
       "      <td>14582</td>\n",
       "      <td>lmfao</td>\n",
       "      <td>12</td>\n",
       "      <td>5</td>\n",
       "    </tr>\n",
       "    <tr>\n",
       "      <th>7</th>\n",
       "      <td>3272</td>\n",
       "      <td>88888</td>\n",
       "      <td>8</td>\n",
       "      <td>5</td>\n",
       "    </tr>\n",
       "    <tr>\n",
       "      <th>8</th>\n",
       "      <td>24958</td>\n",
       "      <td>xkxxkx</td>\n",
       "      <td>4</td>\n",
       "      <td>6</td>\n",
       "    </tr>\n",
       "    <tr>\n",
       "      <th>9</th>\n",
       "      <td>3368</td>\n",
       "      <td>8b8888</td>\n",
       "      <td>3</td>\n",
       "      <td>6</td>\n",
       "    </tr>\n",
       "    <tr>\n",
       "      <th>10</th>\n",
       "      <td>3304</td>\n",
       "      <td>88b8888</td>\n",
       "      <td>2</td>\n",
       "      <td>7</td>\n",
       "    </tr>\n",
       "    <tr>\n",
       "      <th>11</th>\n",
       "      <td>3288</td>\n",
       "      <td>888b888</td>\n",
       "      <td>2</td>\n",
       "      <td>7</td>\n",
       "    </tr>\n",
       "    <tr>\n",
       "      <th>12</th>\n",
       "      <td>17504</td>\n",
       "      <td>obama412</td>\n",
       "      <td>1</td>\n",
       "      <td>8</td>\n",
       "    </tr>\n",
       "    <tr>\n",
       "      <th>13</th>\n",
       "      <td>17307</td>\n",
       "      <td>nypatrol</td>\n",
       "      <td>1</td>\n",
       "      <td>8</td>\n",
       "    </tr>\n",
       "  </tbody>\n",
       "</table>\n",
       "</div>"
      ],
      "text/plain": [
       "    index    ngrams  counts  ng_length\n",
       "0    3267        88      88          2\n",
       "1    4873        ar      86          2\n",
       "2    3270       888      37          3\n",
       "3   12222       iii      27          3\n",
       "4    3271      8888      17          4\n",
       "5   12231      iiii      12          4\n",
       "6   14582     lmfao      12          5\n",
       "7    3272     88888       8          5\n",
       "8   24958    xkxxkx       4          6\n",
       "9    3368    8b8888       3          6\n",
       "10   3304   88b8888       2          7\n",
       "11   3288   888b888       2          7\n",
       "12  17504  obama412       1          8\n",
       "13  17307  nypatrol       1          8"
      ]
     },
     "execution_count": 250,
     "metadata": {},
     "output_type": "execute_result"
    }
   ],
   "source": [
    "max_count_by_length = counts.sort_values(by = 'counts', ascending = False).groupby('ng_length').head(2).reset_index()\n",
    "max_count_by_length"
   ]
  },
  {
   "cell_type": "code",
   "execution_count": 251,
   "metadata": {},
   "outputs": [],
   "source": [
    "max_count_bl_ngs = list(max_count_by_length['ngrams'])"
   ]
  },
  {
   "cell_type": "code",
   "execution_count": 252,
   "metadata": {},
   "outputs": [],
   "source": [
    "top_ngrams = np.array([cv.get_feature_names().index(ng) for ng in max_count_bl_ngs])"
   ]
  },
  {
   "cell_type": "code",
   "execution_count": 253,
   "metadata": {},
   "outputs": [],
   "source": [
    "df = pd.DataFrame(X_train_transformed[:,top_ngrams].todense(), columns = [cv.get_feature_names()[ng] for ng in top_ngrams])\n",
    "df['outcome'] = y_train.reset_index(drop = True)"
   ]
  },
  {
   "cell_type": "code",
   "execution_count": 271,
   "metadata": {},
   "outputs": [],
   "source": [
    "ng = []\n",
    "class_1 = []\n",
    "p = []\n",
    "for col in df.columns[:-1]:\n",
    "    num_per_class = df[df[col] != 0][[col, 'outcome']].groupby('outcome').count()\n",
    "    ng.extend([col, col])\n",
    "    class_1.extend(['accepted','rejected'])\n",
    "    total_counts = sum(num_per_class[col])\n",
    "    if len(num_per_class.index) == 1:\n",
    "        if num_per_class.index[0] == 'rejected':\n",
    "            p.extend([0, num_per_class.at['rejected', col]/total_counts])\n",
    "        if num_per_class.index[0] == 'accepted':\n",
    "            p.extend([num_per_class.at['accepted', col]/total_counts, 0])\n",
    "    else:\n",
    "        p.extend([num_per_class.at['accepted', col]/total_counts, num_per_class.at['rejected', col]/total_counts])\n"
   ]
  },
  {
   "cell_type": "code",
   "execution_count": 272,
   "metadata": {},
   "outputs": [],
   "source": [
    "df_2 = pd.DataFrame({'n-gram': ng, 'class':class_1, 'p':p})"
   ]
  },
  {
   "cell_type": "code",
   "execution_count": 281,
   "metadata": {},
   "outputs": [
    {
     "data": {
      "application/vnd.vegalite.v3+json": {
       "$schema": "https://vega.github.io/schema/vega-lite/v3.4.0.json",
       "config": {
        "mark": {
         "tooltip": null
        },
        "title": {
         "anchor": "middle"
        },
        "view": {
         "height": 300,
         "width": 400
        }
       },
       "vconcat": [
        {
         "data": {
          "format": {
           "type": "json"
          },
          "url": "altair-data-0e288c15ab6fba427a1669a221574a99.json"
         },
         "encoding": {
          "x": {
           "field": "ngrams",
           "sort": [
            "88",
            "ar",
            "888",
            "iii",
            "8888",
            "iiii",
            "lmfao",
            "88888",
            "xkxxkx",
            "8b8888",
            "88b8888",
            "888b888",
            "obama412",
            "nypatrol"
           ],
           "title": "n-gram",
           "type": "nominal"
          },
          "y": {
           "field": "counts",
           "title": "Count",
           "type": "quantitative"
          }
         },
         "mark": {
          "color": "grey",
          "type": "bar"
         },
         "title": "Most frequent n-gram per length",
         "width": 840
        },
        {
         "data": {
          "format": {
           "type": "json"
          },
          "url": "altair-data-73a8321a33b3a5583d9a76a8943e4d36.json"
         },
         "encoding": {
          "color": {
           "field": "class",
           "legend": null,
           "type": "nominal"
          },
          "column": {
           "field": "n-gram",
           "sort": [
            "88",
            "ar",
            "888",
            "iii",
            "8888",
            "iiii",
            "lmfao",
            "88888",
            "xkxxkx",
            "8b8888",
            "88b8888",
            "888b888",
            "obama412",
            "nypatrol"
           ],
           "title": "",
           "type": "nominal"
          },
          "x": {
           "field": "class",
           "title": "",
           "type": "nominal"
          },
          "y": {
           "field": "p",
           "title": "Proportion",
           "type": "quantitative"
          }
         },
         "mark": "bar",
         "title": "Proportion \"accepted\" and \"rejected\"",
         "width": 40
        }
       ]
      },
      "image/png": "[encoded data removed]",
      "text/plain": [
       "<VegaLite 3 object>\n",
       "\n",
       "If you see this message, it means the renderer has not been properly enabled\n",
       "for the frontend that you are using. For more information, see\n",
       "https://altair-viz.github.io/user_guide/troubleshooting.html\n"
      ]
     },
     "execution_count": 281,
     "metadata": {},
     "output_type": "execute_result"
    }
   ],
   "source": [
    "ngram_count = (alt.Chart(max_count_by_length).mark_bar(color = 'grey').encode(\n",
    "        x = alt.X('ngrams:N', title = 'n-gram', \n",
    "                  sort = list(max_count_by_length['ngrams'])),\n",
    "        y = alt.Y('counts:Q', title = 'Count')\n",
    "    ).properties(title = 'Most frequent n-gram per length', width = 840))\n",
    "\n",
    "ngram_prop = (alt.Chart(df_2).mark_bar().encode(\n",
    "        x = alt.X('class:N', title = \"\"),\n",
    "        y = alt.Y('p:Q', title = \"Proportion\"),\n",
    "        color = alt.Color('class:N', legend = None),\n",
    "        column = alt.Column('n-gram:N', \n",
    "                            sort = list(max_count_by_length['ngrams']),\n",
    "                           title = \"\")\n",
    "    ).properties(title = 'Proportion \"accepted\" and \"rejected\"', width = 40))\n",
    "\n",
    "(ngram_count & ngram_prop).configure_title(anchor = 'middle')"
   ]
  },
  {
   "cell_type": "markdown",
   "metadata": {},
   "source": [
    "It seems like frequency of a feature is not necessarily proportional to it's strength as a predictor. The features with the highest frequencies ('88', 'ar') have the most spread between classes. As frequency of an n-gram decreases, it seems more likely to appear in only a single class. This inverse relationship makes it more difficult to predict which features are the strongest predictors of a \"rejected\" outcome just by inspection. So let's go ahead and run the model."
   ]
  }
 ],
 "metadata": {
  "kernelspec": {
   "display_name": "Python 3",
   "language": "python",
   "name": "python3"
  },
  "language_info": {
   "codemirror_mode": {
    "name": "ipython",
    "version": 3
   },
   "file_extension": ".py",
   "mimetype": "text/x-python",
   "name": "python",
   "nbconvert_exporter": "python",
   "pygments_lexer": "ipython3",
   "version": "3.7.6"
  }
 },
 "nbformat": 4,
 "nbformat_minor": 4
}
