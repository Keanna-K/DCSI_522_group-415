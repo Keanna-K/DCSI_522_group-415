{
 "cells": [
  {
   "cell_type": "code",
   "execution_count": 1,
   "metadata": {},
   "outputs": [],
   "source": [
    "import pandas as pd\n",
    "\n",
    "# Loading the plate dataset\n",
    "plate_df=pd.read_csv('../data/vanity_plate_data.csv')"
   ]
  },
  {
   "cell_type": "markdown",
   "metadata": {},
   "source": [
    "#### Exploratory data analysis (EDA)\n",
    "\n",
    "In this section we perform EDA of the given dataset to use it to answer the research question. "
   ]
  },
  {
   "cell_type": "code",
   "execution_count": 6,
   "metadata": {},
   "outputs": [
    {
     "name": "stdout",
     "output_type": "stream",
     "text": [
      "<class 'pandas.core.frame.DataFrame'>\n",
      "RangeIndex: 133636 entries, 0 to 133635\n",
      "Data columns (total 4 columns):\n",
      "Unnamed: 0    133636 non-null int64\n",
      "date          133636 non-null object\n",
      "plate         133635 non-null object\n",
      "outcome       133636 non-null object\n",
      "dtypes: int64(1), object(3)\n",
      "memory usage: 4.1+ MB\n"
     ]
    }
   ],
   "source": [
    "plate_df.info()"
   ]
  },
  {
   "cell_type": "code",
   "execution_count": 7,
   "metadata": {},
   "outputs": [
    {
     "data": {
      "text/html": [
       "<div>\n",
       "<style scoped>\n",
       "    .dataframe tbody tr th:only-of-type {\n",
       "        vertical-align: middle;\n",
       "    }\n",
       "\n",
       "    .dataframe tbody tr th {\n",
       "        vertical-align: top;\n",
       "    }\n",
       "\n",
       "    .dataframe thead th {\n",
       "        text-align: right;\n",
       "    }\n",
       "</style>\n",
       "<table border=\"1\" class=\"dataframe\">\n",
       "  <thead>\n",
       "    <tr style=\"text-align: right;\">\n",
       "      <th></th>\n",
       "      <th>Unnamed: 0</th>\n",
       "      <th>date</th>\n",
       "      <th>plate</th>\n",
       "      <th>outcome</th>\n",
       "    </tr>\n",
       "  </thead>\n",
       "  <tbody>\n",
       "    <tr>\n",
       "      <td>0</td>\n",
       "      <td>0</td>\n",
       "      <td>2010-10-01</td>\n",
       "      <td>ANDARE</td>\n",
       "      <td>accepted</td>\n",
       "    </tr>\n",
       "    <tr>\n",
       "      <td>1</td>\n",
       "      <td>1</td>\n",
       "      <td>2010-10-01</td>\n",
       "      <td>1TWIN</td>\n",
       "      <td>accepted</td>\n",
       "    </tr>\n",
       "    <tr>\n",
       "      <td>2</td>\n",
       "      <td>2</td>\n",
       "      <td>2010-10-01</td>\n",
       "      <td>11VROD</td>\n",
       "      <td>accepted</td>\n",
       "    </tr>\n",
       "    <tr>\n",
       "      <td>3</td>\n",
       "      <td>3</td>\n",
       "      <td>2010-10-01</td>\n",
       "      <td>4SKNMC</td>\n",
       "      <td>accepted</td>\n",
       "    </tr>\n",
       "    <tr>\n",
       "      <td>4</td>\n",
       "      <td>4</td>\n",
       "      <td>2010-10-01</td>\n",
       "      <td>7IRON6</td>\n",
       "      <td>accepted</td>\n",
       "    </tr>\n",
       "  </tbody>\n",
       "</table>\n",
       "</div>"
      ],
      "text/plain": [
       "   Unnamed: 0        date   plate   outcome\n",
       "0           0  2010-10-01  ANDARE  accepted\n",
       "1           1  2010-10-01   1TWIN  accepted\n",
       "2           2  2010-10-01  11VROD  accepted\n",
       "3           3  2010-10-01  4SKNMC  accepted\n",
       "4           4  2010-10-01  7IRON6  accepted"
      ]
     },
     "execution_count": 7,
     "metadata": {},
     "output_type": "execute_result"
    }
   ],
   "source": [
    "plate_df.head()"
   ]
  },
  {
   "cell_type": "markdown",
   "metadata": {},
   "source": [
    "The dataset has four columns. For this project the important ones are `plate` and `outcome`. Only one value in `plate` is null or missing, which we need to eliminate in the wrangling step. Both `plate` and `outcome` are non-numeric data types. `plate` is string while `outcome` is boolean having two values `accepted` and `rejected`."
   ]
  },
  {
   "cell_type": "markdown",
   "metadata": {},
   "source": [
    "Since, the project is focused on making the predictions on the `outcome` based on `plate`, it is essential to know if we have same number of examples in the `outcome` for classification. The below plot shows the simple bar chart of the two `outcome` values. "
   ]
  },
  {
   "cell_type": "code",
   "execution_count": 46,
   "metadata": {},
   "outputs": [
    {
     "data": {
      "application/vnd.vegalite.v3+json": {
       "$schema": "https://vega.github.io/schema/vega-lite/v3.4.0.json",
       "config": {
        "axis": {
         "labelFontSize": 15,
         "titleFontSize": 20
        },
        "mark": {
         "tooltip": null
        },
        "title": {
         "fontSize": 20
        },
        "view": {
         "height": 300,
         "width": 400
        }
       },
       "data": {
        "format": {
         "type": "json"
        },
        "url": "altair-data-04b834c1eb38c7df9854eae2a886d2ae.json"
       },
       "encoding": {
        "column": {
         "field": "outcome",
         "type": "nominal"
        },
        "x": {
         "axis": {
          "labels": false,
          "ticks": false
         },
         "bin": true,
         "field": "outcome",
         "title": "Outcome",
         "type": "nominal"
        },
        "y": {
         "aggregate": "count",
         "scale": {
          "base": 10,
          "type": "log"
         },
         "title": "Count",
         "type": "quantitative"
        }
       },
       "height": 300,
       "mark": "bar",
       "title": "Total accepted and rejected plates",
       "width": 100
      },
      "image/png": "[encoded data removed]",
      "text/plain": [
       "<VegaLite 3 object>\n",
       "\n",
       "If you see this message, it means the renderer has not been properly enabled\n",
       "for the frontend that you are using. For more information, see\n",
       "https://altair-viz.github.io/user_guide/troubleshooting.html\n"
      ]
     },
     "execution_count": 46,
     "metadata": {},
     "output_type": "execute_result"
    }
   ],
   "source": [
    "import altair as alt\n",
    "alt.data_transformers.enable('json')\n",
    "\n",
    "alt.Chart(plate_df).mark_bar().encode(\n",
    "    alt.X(\"outcome:N\", bin=True, axis=alt.Axis(ticks = False, labels = False),title = 'Outcome'),\n",
    "    alt.Y(\"count()\", scale=alt.Scale(type='log', base=10), title = 'Count'), \n",
    "    column = 'outcome:N'\n",
    ").configure_axis(labelFontSize=15,titleFontSize=20\n",
    ").configure_title(fontSize=20\n",
    ").properties(title=\"Total accepted and rejected plates\", width=100, height=300)"
   ]
  },
  {
   "cell_type": "code",
   "execution_count": 60,
   "metadata": {},
   "outputs": [
    {
     "name": "stdout",
     "output_type": "stream",
     "text": [
      "Total number of accepted plate is 131990\n",
      "Total number of rejected plate is 1646\n"
     ]
    }
   ],
   "source": [
    "print('Total number of accepted plate is',plate_df.query('outcome == \"accepted\"').shape[0])\n",
    "print('Total number of rejected plate is',plate_df.query('outcome == \"rejected\"').shape[0])"
   ]
  },
  {
   "cell_type": "markdown",
   "metadata": {},
   "source": [
    "This means that we have significant class imbalance in our data. Thus, we need to account for this in our model"
   ]
  },
  {
   "cell_type": "markdown",
   "metadata": {},
   "source": [
    "The top 10 most common accepted plate configurations are below"
   ]
  },
  {
   "cell_type": "code",
   "execution_count": 55,
   "metadata": {},
   "outputs": [
    {
     "data": {
      "text/plain": [
       "MASON       7\n",
       "LB          5\n",
       "MHA         5\n",
       "TOMK        5\n",
       "7A74        4\n",
       "INFINITI    4\n",
       "MVVG        4\n",
       "KLS411      4\n",
       "DWB7        4\n",
       "PWP         4\n",
       "Name: plate, dtype: int64"
      ]
     },
     "execution_count": 55,
     "metadata": {},
     "output_type": "execute_result"
    }
   ],
   "source": [
    "plate_df.query('outcome == \"accepted\"')['plate'].value_counts().head(10) "
   ]
  },
  {
   "cell_type": "code",
   "execution_count": null,
   "metadata": {},
   "outputs": [],
   "source": []
  }
 ],
 "metadata": {
  "kernelspec": {
   "display_name": "Python 3",
   "language": "python",
   "name": "python3"
  },
  "language_info": {
   "codemirror_mode": {
    "name": "ipython",
    "version": 3
   },
   "file_extension": ".py",
   "mimetype": "text/x-python",
   "name": "python",
   "nbconvert_exporter": "python",
   "pygments_lexer": "ipython3",
   "version": "3.7.3"
  }
 },
 "nbformat": 4,
 "nbformat_minor": 4
}
